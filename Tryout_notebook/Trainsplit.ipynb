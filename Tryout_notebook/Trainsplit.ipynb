{
 "cells": [
  {
   "cell_type": "code",
   "execution_count": 1,
   "metadata": {},
   "outputs": [],
   "source": [
    "import glob\n",
    "import pickle\n",
    "import numpy as np\n",
    "import matplotlib.pyplot as plt\n",
    "import pandas as pd"
   ]
  },
  {
   "cell_type": "code",
   "execution_count": 2,
   "metadata": {},
   "outputs": [],
   "source": [
    "data = np.loadtxt('../stock_data/NASDAQ/AAL')"
   ]
  },
  {
   "cell_type": "code",
   "execution_count": 3,
   "metadata": {},
   "outputs": [
    {
     "name": "stdout",
     "output_type": "stream",
     "text": [
      "(7262, 21)\n"
     ]
    },
    {
     "data": {
      "text/html": [
       "<div>\n",
       "<style scoped>\n",
       "    .dataframe tbody tr th:only-of-type {\n",
       "        vertical-align: middle;\n",
       "    }\n",
       "\n",
       "    .dataframe tbody tr th {\n",
       "        vertical-align: top;\n",
       "    }\n",
       "\n",
       "    .dataframe thead th {\n",
       "        text-align: right;\n",
       "    }\n",
       "</style>\n",
       "<table border=\"1\" class=\"dataframe\">\n",
       "  <thead>\n",
       "    <tr style=\"text-align: right;\">\n",
       "      <th></th>\n",
       "      <th>0</th>\n",
       "      <th>1</th>\n",
       "      <th>2</th>\n",
       "      <th>3</th>\n",
       "      <th>4</th>\n",
       "      <th>5</th>\n",
       "      <th>6</th>\n",
       "      <th>7</th>\n",
       "      <th>8</th>\n",
       "      <th>9</th>\n",
       "      <th>...</th>\n",
       "      <th>11</th>\n",
       "      <th>12</th>\n",
       "      <th>13</th>\n",
       "      <th>14</th>\n",
       "      <th>15</th>\n",
       "      <th>16</th>\n",
       "      <th>17</th>\n",
       "      <th>18</th>\n",
       "      <th>19</th>\n",
       "      <th>20</th>\n",
       "    </tr>\n",
       "  </thead>\n",
       "  <tbody>\n",
       "    <tr>\n",
       "      <th>0</th>\n",
       "      <td>12.19</td>\n",
       "      <td>12.25</td>\n",
       "      <td>14.04</td>\n",
       "      <td>15.66</td>\n",
       "      <td>15.39</td>\n",
       "      <td>13.92</td>\n",
       "      <td>10.25</td>\n",
       "      <td>10.38</td>\n",
       "      <td>10.29</td>\n",
       "      <td>11.65</td>\n",
       "      <td>...</td>\n",
       "      <td>15.92</td>\n",
       "      <td>14.31</td>\n",
       "      <td>13.45</td>\n",
       "      <td>16.26</td>\n",
       "      <td>17.00</td>\n",
       "      <td>14.75</td>\n",
       "      <td>15.97</td>\n",
       "      <td>16.04</td>\n",
       "      <td>18.53</td>\n",
       "      <td>17.85</td>\n",
       "    </tr>\n",
       "    <tr>\n",
       "      <th>1</th>\n",
       "      <td>12.25</td>\n",
       "      <td>14.04</td>\n",
       "      <td>15.66</td>\n",
       "      <td>15.39</td>\n",
       "      <td>13.92</td>\n",
       "      <td>10.25</td>\n",
       "      <td>10.38</td>\n",
       "      <td>10.29</td>\n",
       "      <td>11.65</td>\n",
       "      <td>15.58</td>\n",
       "      <td>...</td>\n",
       "      <td>14.31</td>\n",
       "      <td>13.45</td>\n",
       "      <td>16.26</td>\n",
       "      <td>17.00</td>\n",
       "      <td>14.75</td>\n",
       "      <td>15.97</td>\n",
       "      <td>16.04</td>\n",
       "      <td>18.53</td>\n",
       "      <td>17.85</td>\n",
       "      <td>18.86</td>\n",
       "    </tr>\n",
       "    <tr>\n",
       "      <th>2</th>\n",
       "      <td>14.04</td>\n",
       "      <td>15.66</td>\n",
       "      <td>15.39</td>\n",
       "      <td>13.92</td>\n",
       "      <td>10.25</td>\n",
       "      <td>10.38</td>\n",
       "      <td>10.29</td>\n",
       "      <td>11.65</td>\n",
       "      <td>15.58</td>\n",
       "      <td>15.92</td>\n",
       "      <td>...</td>\n",
       "      <td>13.45</td>\n",
       "      <td>16.26</td>\n",
       "      <td>17.00</td>\n",
       "      <td>14.75</td>\n",
       "      <td>15.97</td>\n",
       "      <td>16.04</td>\n",
       "      <td>18.53</td>\n",
       "      <td>17.85</td>\n",
       "      <td>18.86</td>\n",
       "      <td>19.05</td>\n",
       "    </tr>\n",
       "    <tr>\n",
       "      <th>3</th>\n",
       "      <td>15.66</td>\n",
       "      <td>15.39</td>\n",
       "      <td>13.92</td>\n",
       "      <td>10.25</td>\n",
       "      <td>10.38</td>\n",
       "      <td>10.29</td>\n",
       "      <td>11.65</td>\n",
       "      <td>15.58</td>\n",
       "      <td>15.92</td>\n",
       "      <td>14.31</td>\n",
       "      <td>...</td>\n",
       "      <td>16.26</td>\n",
       "      <td>17.00</td>\n",
       "      <td>14.75</td>\n",
       "      <td>15.97</td>\n",
       "      <td>16.04</td>\n",
       "      <td>18.53</td>\n",
       "      <td>17.85</td>\n",
       "      <td>18.86</td>\n",
       "      <td>19.05</td>\n",
       "      <td>20.60</td>\n",
       "    </tr>\n",
       "    <tr>\n",
       "      <th>4</th>\n",
       "      <td>15.39</td>\n",
       "      <td>13.92</td>\n",
       "      <td>10.25</td>\n",
       "      <td>10.38</td>\n",
       "      <td>10.29</td>\n",
       "      <td>11.65</td>\n",
       "      <td>15.58</td>\n",
       "      <td>15.92</td>\n",
       "      <td>14.31</td>\n",
       "      <td>13.45</td>\n",
       "      <td>...</td>\n",
       "      <td>17.00</td>\n",
       "      <td>14.75</td>\n",
       "      <td>15.97</td>\n",
       "      <td>16.04</td>\n",
       "      <td>18.53</td>\n",
       "      <td>17.85</td>\n",
       "      <td>18.86</td>\n",
       "      <td>19.05</td>\n",
       "      <td>20.60</td>\n",
       "      <td>22.31</td>\n",
       "    </tr>\n",
       "  </tbody>\n",
       "</table>\n",
       "<p>5 rows × 21 columns</p>\n",
       "</div>"
      ],
      "text/plain": [
       "      0      1      2      3      4      5      6      7      8      9   ...  \\\n",
       "0  12.19  12.25  14.04  15.66  15.39  13.92  10.25  10.38  10.29  11.65  ...   \n",
       "1  12.25  14.04  15.66  15.39  13.92  10.25  10.38  10.29  11.65  15.58  ...   \n",
       "2  14.04  15.66  15.39  13.92  10.25  10.38  10.29  11.65  15.58  15.92  ...   \n",
       "3  15.66  15.39  13.92  10.25  10.38  10.29  11.65  15.58  15.92  14.31  ...   \n",
       "4  15.39  13.92  10.25  10.38  10.29  11.65  15.58  15.92  14.31  13.45  ...   \n",
       "\n",
       "      11     12     13     14     15     16     17     18     19     20  \n",
       "0  15.92  14.31  13.45  16.26  17.00  14.75  15.97  16.04  18.53  17.85  \n",
       "1  14.31  13.45  16.26  17.00  14.75  15.97  16.04  18.53  17.85  18.86  \n",
       "2  13.45  16.26  17.00  14.75  15.97  16.04  18.53  17.85  18.86  19.05  \n",
       "3  16.26  17.00  14.75  15.97  16.04  18.53  17.85  18.86  19.05  20.60  \n",
       "4  17.00  14.75  15.97  16.04  18.53  17.85  18.86  19.05  20.60  22.31  \n",
       "\n",
       "[5 rows x 21 columns]"
      ]
     },
     "execution_count": 3,
     "metadata": {},
     "output_type": "execute_result"
    }
   ],
   "source": [
    "prices,volume = data.T\n",
    "\n",
    "def return_samples(data):\n",
    "    formatted_data = []\n",
    "\n",
    "    for i in range(len(data) - 21):\n",
    "        slicee = data[i:i+21]\n",
    "        formatted_data.append(slicee)\n",
    "    return np.array(formatted_data)\n",
    "\n",
    "formatted_prices = return_samples(prices)\n",
    "formatted_volumes = return_samples(volume)\n",
    "#formatt = np.concatenate(formatted_prices,formatted_volumes)\n",
    "formatt = np.vstack((formatted_prices,formatted_volumes))\n",
    "print(formatt.shape)\n",
    "df = pd.DataFrame(formatted_prices)\n",
    "df.head()\n",
    "\n",
    "\n"
   ]
  },
  {
   "cell_type": "code",
   "execution_count": 4,
   "metadata": {},
   "outputs": [
    {
     "name": "stdout",
     "output_type": "stream",
     "text": [
      "3652\n"
     ]
    },
    {
     "data": {
      "image/png": "[encoded data removed]",
      "text/plain": [
       "<Figure size 432x288 with 1 Axes>"
      ]
     },
     "metadata": {
      "needs_background": "light"
     },
     "output_type": "display_data"
    }
   ],
   "source": [
    "plt.plot(data[:,0])\n",
    "print(len(data))"
   ]
  },
  {
   "cell_type": "code",
   "execution_count": 5,
   "metadata": {},
   "outputs": [
    {
     "data": {
      "text/plain": [
       "(3631, 21)"
      ]
     },
     "execution_count": 5,
     "metadata": {},
     "output_type": "execute_result"
    }
   ],
   "source": [
    "250*500/1000\n",
    "x = np.vstack((np.empty((0,21)),formatted_prices))\n",
    "x.shape"
   ]
  },
  {
   "cell_type": "code",
   "execution_count": 6,
   "metadata": {},
   "outputs": [],
   "source": [
    "## Create massive text file with all prices / all volumes :\n",
    "files = glob.glob('../stock_data/NASDAQ/*')\n",
    "prices = np.empty((0,21))\n",
    "volumes = np.empty((0,21))\n",
    "for f in files: \n",
    "    data = np.loadtxt('../stock_data/NASDAQ/AAL')\n",
    "    price,volume = data.T\n",
    "    formatted_prices = return_samples(price)\n",
    "    formatted_volumes = return_samples(volume)\n",
    "    prices = np.vstack((prices,formatted_prices))\n",
    "    volumes = np.vstack((volumes,formatted_volumes))"
   ]
  },
  {
   "cell_type": "code",
   "execution_count": 43,
   "metadata": {},
   "outputs": [],
   "source": [
    "np.savetxt('../stock_data/price_matrix.txt',prices)"
   ]
  },
  {
   "cell_type": "code",
   "execution_count": 44,
   "metadata": {},
   "outputs": [],
   "source": [
    "np.savetxt('../stock_data/volume_matrix.txt',volumes)"
   ]
  },
  {
   "cell_type": "code",
   "execution_count": null,
   "metadata": {},
   "outputs": [],
   "source": []
  }
 ],
 "metadata": {
  "kernelspec": {
   "display_name": "Python 3",
   "language": "python",
   "name": "python3"
  },
  "language_info": {
   "codemirror_mode": {
    "name": "ipython",
    "version": 3
   },
   "file_extension": ".py",
   "mimetype": "text/x-python",
   "name": "python",
   "nbconvert_exporter": "python",
   "pygments_lexer": "ipython3",
   "version": "3.7.6"
  }
 },
 "nbformat": 4,
 "nbformat_minor": 4
}
