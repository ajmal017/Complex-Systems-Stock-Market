{
 "cells": [
  {
   "cell_type": "code",
   "execution_count": 2,
   "metadata": {},
   "outputs": [],
   "source": [
    "import torch\n",
    "from torch import nn\n",
    "import numpy as np\n",
    "import torch.nn.functional as F\n"
   ]
  },
  {
   "cell_type": "code",
   "execution_count": 15,
   "metadata": {},
   "outputs": [
    {
     "name": "stdout",
     "output_type": "stream",
     "text": [
      "torch.Size([50, 50, 91])\n",
      "torch.Size([50, 50, 45])\n",
      "torch.Size([50, 100, 41])\n",
      "torch.Size([50, 100, 20])\n",
      "torch.Size([50, 1])\n"
     ]
    }
   ],
   "source": [
    "y = [list(np.zeros(100)),list(np.ones(100))] * 25\n",
    "x = np.array(y)\n",
    "\n",
    "tens = torch.from_numpy(x)\n",
    "tens = tens.view(50,1,100)\n",
    "# first 1d convolution with fixed weights : \n",
    "m = nn.Conv1d(1,50,10) \n",
    "m.weight.data.fill_(1)\n",
    "m.bias.data.fill_(0)\n",
    "out = F.relu(m(tens.float()))\n",
    "\n",
    "# first max pool\n",
    "print(out.size())\n",
    "mp = nn.MaxPool1d(2)\n",
    "out = mp(out)\n",
    "print(out.size())\n",
    "\n",
    "# second 1d convolution with fixed weights : \n",
    "m = nn.Conv1d(50,100,5) \n",
    "m.weight.data.fill_(1)\n",
    "m.bias.data.fill_(0)\n",
    "out = F.relu(m(out))\n",
    "\n",
    "# second max pool\n",
    "print(out.size())\n",
    "mp = nn.MaxPool1d(2)\n",
    "out = mp(out)\n",
    "print(out.size())\n",
    "\n",
    "# flatten and feed to fc: \n",
    "fc1 = nn.Linear(100*20,1)\n",
    "out = fc1(out.view(50,100*20))\n",
    "print(out.size())"
   ]
  },
  {
   "cell_type": "code",
   "execution_count": 6,
   "metadata": {},
   "outputs": [
    {
     "data": {
      "text/plain": [
       "(50, 100)"
      ]
     },
     "execution_count": 6,
     "metadata": {},
     "output_type": "execute_result"
    }
   ],
   "source": []
  },
  {
   "cell_type": "code",
   "execution_count": 11,
   "metadata": {},
   "outputs": [
    {
     "name": "stdout",
     "output_type": "stream",
     "text": [
      "torch.Size([50, 30, 87])\n",
      "torch.Size([50, 30, 43])\n",
      "torch.Size([50, 90, 37])\n",
      "torch.Size([50, 90, 18])\n",
      "torch.Size([50, 180, 16])\n",
      "torch.Size([50, 1])\n"
     ]
    }
   ],
   "source": [
    "## add extra conv layer : \n",
    "\n",
    "y = [list(np.zeros(100)),list(np.ones(100))] * 25\n",
    "x = np.array(y)\n",
    "\n",
    "tens = torch.from_numpy(x)\n",
    "tens = tens.view(50,1,100)\n",
    "# first 1d convolution with fixed weights : \n",
    "m = nn.Conv1d(1,30,14) \n",
    "m.weight.data.fill_(1)\n",
    "m.bias.data.fill_(0)\n",
    "out = F.relu(m(tens.float()))\n",
    "\n",
    "# first max pool\n",
    "print(out.size())\n",
    "mp = nn.MaxPool1d(2)\n",
    "out = mp(out)\n",
    "print(out.size())\n",
    "\n",
    "# second 1d convolution with fixed weights : \n",
    "m = nn.Conv1d(30,90,7) \n",
    "m.weight.data.fill_(1)\n",
    "m.bias.data.fill_(0)\n",
    "out = F.relu(m(out))\n",
    "\n",
    "# second max pool\n",
    "print(out.size())\n",
    "mp = nn.MaxPool1d(2)\n",
    "out = mp(out)\n",
    "print(out.size())\n",
    "\n",
    "# third conv : \n",
    "m = nn.Conv1d(90,180,3) \n",
    "m.weight.data.fill_(1)\n",
    "m.bias.data.fill_(0)\n",
    "out = F.relu(m(out))\n",
    "\n",
    "\n",
    "print(out.size())\n",
    "# flatten and feed to fc: \n",
    "fc1 = nn.Linear(16*180,1)\n",
    "out = fc1(out.view(50,16*180))\n",
    "print(out.size())"
   ]
  },
  {
   "cell_type": "code",
   "execution_count": null,
   "metadata": {},
   "outputs": [],
   "source": []
  }
 ],
 "metadata": {
  "kernelspec": {
   "display_name": "Python 3",
   "language": "python",
   "name": "python3"
  },
  "language_info": {
   "codemirror_mode": {
    "name": "ipython",
    "version": 3
   },
   "file_extension": ".py",
   "mimetype": "text/x-python",
   "name": "python",
   "nbconvert_exporter": "python",
   "pygments_lexer": "ipython3",
   "version": "3.7.6"
  }
 },
 "nbformat": 4,
 "nbformat_minor": 4
}
