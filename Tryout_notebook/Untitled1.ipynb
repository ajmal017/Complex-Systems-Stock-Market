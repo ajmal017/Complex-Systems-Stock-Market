{
 "cells": [
  {
   "cell_type": "code",
   "execution_count": 1,
   "metadata": {},
   "outputs": [],
   "source": [
    "import pickle\n",
    "import numpy as np\n",
    "import pandas as pd\n"
   ]
  },
  {
   "cell_type": "code",
   "execution_count": 4,
   "metadata": {},
   "outputs": [
    {
     "name": "stdout",
     "output_type": "stream",
     "text": [
      "[[0.3668079, 1471, 1019, 1512, 952], [0.35907117, 1402, 1077, 1454, 1021], [0.36327267, 1347, 1124, 1407, 1076], [0.36201957, 1250, 1265, 1266, 1173], [0.3644146, 1265, 1244, 1287, 1158], [0.36635235, 1247, 1263, 1268, 1176], [0.36764354, 1316, 1188, 1343, 1107], [0.36985913, 1297, 1220, 1311, 1126], [0.3695102, 1288, 1218, 1313, 1135], [0.37107846, 1254, 1256, 1275, 1169]]\n"
     ]
    }
   ],
   "source": [
    "accuracy = pickle.load(open('../CNN_stock_predictions/Accuracies.pkl','rb'))\n",
    "print(accuracy)"
   ]
  },
  {
   "cell_type": "code",
   "execution_count": null,
   "metadata": {},
   "outputs": [],
   "source": []
  }
 ],
 "metadata": {
  "kernelspec": {
   "display_name": "Python 3",
   "language": "python",
   "name": "python3"
  },
  "language_info": {
   "codemirror_mode": {
    "name": "ipython",
    "version": 3
   },
   "file_extension": ".py",
   "mimetype": "text/x-python",
   "name": "python",
   "nbconvert_exporter": "python",
   "pygments_lexer": "ipython3",
   "version": "3.7.6"
  }
 },
 "nbformat": 4,
 "nbformat_minor": 4
}
